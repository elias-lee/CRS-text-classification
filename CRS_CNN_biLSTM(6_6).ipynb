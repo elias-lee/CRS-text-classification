{
  "nbformat": 4,
  "nbformat_minor": 0,
  "metadata": {
    "colab": {
      "name": "CRS_test_ver3(6.6).ipynb",
      "provenance": [],
      "collapsed_sections": [],
      "toc_visible": true
    },
    "kernelspec": {
      "name": "python3",
      "display_name": "Python 3"
    },
    "language_info": {
      "name": "python"
    },
    "accelerator": "GPU"
  },
  "cells": [
    {
      "cell_type": "code",
      "execution_count": 5,
      "metadata": {
        "id": "I2FdFsgOxW1O"
      },
      "outputs": [],
      "source": [
        "import random\n",
        "import copy\n",
        "import time\n",
        "import pandas as pd\n",
        "import numpy as np\n",
        "import gc\n",
        "import re\n",
        "import torch\n",
        "\n",
        "#import spacy\n",
        "from tqdm import tqdm_notebook, tnrange\n",
        "from tqdm.auto import tqdm\n",
        "\n",
        "tqdm.pandas(desc='Progress')\n",
        "from collections import Counter\n",
        "\n",
        "from nltk import word_tokenize\n",
        "\n",
        "import torch.nn as nn\n",
        "import torch.optim as optim\n",
        "import torch.nn.functional as F\n",
        "from torch.utils.data import Dataset, DataLoader\n",
        "from torch.nn.utils.rnn import pack_padded_sequence, pad_packed_sequence\n",
        "from torch.autograd import Variable\n",
        "from sklearn.metrics import f1_score\n",
        "import os \n",
        "\n",
        "from keras.preprocessing.text import Tokenizer\n",
        "from keras.preprocessing.sequence import pad_sequences\n",
        "\n",
        "# cross validation and metrics\n",
        "from sklearn.model_selection import StratifiedKFold\n",
        "from sklearn.metrics import f1_score\n",
        "from torch.optim.optimizer import Optimizer\n",
        "\n",
        "from sklearn.preprocessing import StandardScaler\n",
        "from multiprocessing import  Pool\n",
        "from functools import partial\n",
        "import numpy as np\n",
        "from sklearn.decomposition import PCA\n",
        "import torch as t\n",
        "import torch.nn as nn\n",
        "import torch.nn.functional as F\n",
        "\n",
        "import matplotlib.pyplot as plt"
      ]
    },
    {
      "cell_type": "code",
      "source": [
        "from google.colab import drive\n",
        "drive.mount('/content/drive')"
      ],
      "metadata": {
        "colab": {
          "base_uri": "https://localhost:8080/"
        },
        "id": "3zxlZoDDxbQT",
        "outputId": "04cb6d97-7f4c-4ddb-b6b2-1d27ca385e4a"
      },
      "execution_count": 6,
      "outputs": [
        {
          "output_type": "stream",
          "name": "stdout",
          "text": [
            "Drive already mounted at /content/drive; to attempt to forcibly remount, call drive.mount(\"/content/drive\", force_remount=True).\n"
          ]
        }
      ]
    },
    {
      "cell_type": "code",
      "source": [
        "!ls drive/MyDrive/crs/"
      ],
      "metadata": {
        "colab": {
          "base_uri": "https://localhost:8080/"
        },
        "id": "KiKxkonLxjHa",
        "outputId": "48fc825a-b879-4b33-f4d7-51ae75b17d68"
      },
      "execution_count": 7,
      "outputs": [
        {
          "output_type": "stream",
          "name": "stdout",
          "text": [
            "CRS_2016_data_short.csv  crs_final_df_kor.csv  data  glove.840B.300d.txt\n"
          ]
        }
      ]
    },
    {
      "cell_type": "code",
      "source": [
        "data1 = pd.read_csv(\"drive/MyDrive/crs/crs_final_df_kor.csv\", header = 0)"
      ],
      "metadata": {
        "colab": {
          "base_uri": "https://localhost:8080/"
        },
        "id": "nwu6pN8ni16m",
        "outputId": "35f8b5b4-0af5-4d9d-d856-a313db841f65"
      },
      "execution_count": 27,
      "outputs": [
        {
          "output_type": "stream",
          "name": "stderr",
          "text": [
            "/usr/local/lib/python3.7/dist-packages/IPython/core/interactiveshell.py:2882: DtypeWarning: Columns (6,58,59,90,91) have mixed types.Specify dtype option on import or set low_memory=False.\n",
            "  exec(code_obj, self.user_global_ns, self.user_ns)\n"
          ]
        }
      ]
    },
    {
      "cell_type": "code",
      "source": [
        "data1.columns"
      ],
      "metadata": {
        "colab": {
          "base_uri": "https://localhost:8080/"
        },
        "id": "NOVZkbZ1lkg4",
        "outputId": "8eba9c4a-1cab-4df3-fe78-b3bad2e7d08a"
      },
      "execution_count": 35,
      "outputs": [
        {
          "output_type": "execute_result",
          "data": {
            "text/plain": [
              "Index(['Unnamed: 0', 'Year', 'DonorCode', 'DonorName', 'AgencyCode',\n",
              "       'AgencyName', 'CrsID', 'ProjectNumber', 'InitialReport',\n",
              "       'RecipientCode', 'RecipientName', 'RegionCode', 'RegionName',\n",
              "       'IncomegroupCode', 'IncomegroupName', 'FlowCode', 'FlowName',\n",
              "       'Bi_Multi', 'Category', 'Finance_t', 'Aid_t', 'USD_Commitment',\n",
              "       'USD_Disbursement', 'USD_Received', 'USD_Commitment_Defl',\n",
              "       'USD_Disbursement_Defl', 'USD_Received_Defl', 'USD_Adjustment',\n",
              "       'USD_Adjustment_Defl', 'USD_AmountUntied', 'USD_AmountPartialTied',\n",
              "       'USD_AmountTied', 'USD_AmountUntied_Defl', 'USD_AmountPartialTied_Defl',\n",
              "       'USD_Amounttied_Defl', 'USD_IRTC', 'USD_Expert_Commitment',\n",
              "       'USD_Expert_Extended', 'USD_Export_Credit', 'CurrencyCode',\n",
              "       'Commitment_National', 'Disbursement_National', 'GrantEquiv',\n",
              "       'USD_GrantEquiv', 'ShortDescription', 'ProjectTitle', 'PurposeCode',\n",
              "       'PurposeName', 'SectorCode', 'SectorName', 'ChannelCode', 'ChannelName',\n",
              "       'ChannelReportedName', 'ParentChannelCode', 'Geography',\n",
              "       'ExpectedStartDate', 'CompletionDate', 'LongDescription', 'SDGfocus',\n",
              "       'Keywords', 'Gender', 'Environment', 'PDGG', 'Trade', 'RMNCH', 'DRR',\n",
              "       'Nutrition', 'Disability', 'FTC', 'PBA', 'InvestmentProject',\n",
              "       'AssocFinance', 'Biodiversity', 'ClimateMitigation',\n",
              "       'ClimateAdaptation', 'Desertification', 'CommitmentDate',\n",
              "       'TypeRepayment', 'NumberRepayment', 'Interest1', 'Interest2',\n",
              "       'Repaydate1', 'Repaydate2', 'USD_Interest', 'USD_Outstanding',\n",
              "       'USD_Arrears_Principal', 'USD_Arrears_Interest', 'CapitalExpend',\n",
              "       'PSIflag', 'PSIAddType', 'PSIAddAssess', 'PSIAddDevObj', 'LDCflag',\n",
              "       'LDCflagName'],\n",
              "      dtype='object')"
            ]
          },
          "metadata": {},
          "execution_count": 35
        }
      ]
    },
    {
      "cell_type": "code",
      "source": [
        "data = data1.loc[:,[\"PurposeCode\",\"LongDescription\",\"ProjectTitle\", \"ShortDescription\"]]"
      ],
      "metadata": {
        "id": "etLhlLKllkaP"
      },
      "execution_count": 38,
      "outputs": []
    },
    {
      "cell_type": "code",
      "source": [
        "data.head(2)"
      ],
      "metadata": {
        "colab": {
          "base_uri": "https://localhost:8080/",
          "height": 191
        },
        "id": "EFM4tlmAlkQ3",
        "outputId": "81dad456-fe85-4ed3-946f-e15b77a84116"
      },
      "execution_count": 40,
      "outputs": [
        {
          "output_type": "execute_result",
          "data": {
            "text/plain": [
              "   PurposeCode                                    LongDescription  \\\n",
              "0      12230.0  To provide medical equipment and consulting se...   \n",
              "1      31120.0  To educate governmental officials of developin...   \n",
              "\n",
              "                                        ProjectTitle  \\\n",
              "0  Medical Equipment Sector Development Loan Project   \n",
              "1  Master's degree program in Rural Development(2...   \n",
              "\n",
              "                                    ShortDescription  \n",
              "0  MEDICAL EQUIPMENT SECTOR DEVELOPMENT LOAN PROJECT  \n",
              "1  MASTER'S DEGREE PROGRAM IN RURAL DEVELOPMENT(2...  "
            ],
            "text/html": [
              "\n",
              "  <div id=\"df-ae0f990c-d6bf-467a-8b49-dbcc011378dc\">\n",
              "    <div class=\"colab-df-container\">\n",
              "      <div>\n",
              "<style scoped>\n",
              "    .dataframe tbody tr th:only-of-type {\n",
              "        vertical-align: middle;\n",
              "    }\n",
              "\n",
              "    .dataframe tbody tr th {\n",
              "        vertical-align: top;\n",
              "    }\n",
              "\n",
              "    .dataframe thead th {\n",
              "        text-align: right;\n",
              "    }\n",
              "</style>\n",
              "<table border=\"1\" class=\"dataframe\">\n",
              "  <thead>\n",
              "    <tr style=\"text-align: right;\">\n",
              "      <th></th>\n",
              "      <th>PurposeCode</th>\n",
              "      <th>LongDescription</th>\n",
              "      <th>ProjectTitle</th>\n",
              "      <th>ShortDescription</th>\n",
              "    </tr>\n",
              "  </thead>\n",
              "  <tbody>\n",
              "    <tr>\n",
              "      <th>0</th>\n",
              "      <td>12230.0</td>\n",
              "      <td>To provide medical equipment and consulting se...</td>\n",
              "      <td>Medical Equipment Sector Development Loan Project</td>\n",
              "      <td>MEDICAL EQUIPMENT SECTOR DEVELOPMENT LOAN PROJECT</td>\n",
              "    </tr>\n",
              "    <tr>\n",
              "      <th>1</th>\n",
              "      <td>31120.0</td>\n",
              "      <td>To educate governmental officials of developin...</td>\n",
              "      <td>Master's degree program in Rural Development(2...</td>\n",
              "      <td>MASTER'S DEGREE PROGRAM IN RURAL DEVELOPMENT(2...</td>\n",
              "    </tr>\n",
              "  </tbody>\n",
              "</table>\n",
              "</div>\n",
              "      <button class=\"colab-df-convert\" onclick=\"convertToInteractive('df-ae0f990c-d6bf-467a-8b49-dbcc011378dc')\"\n",
              "              title=\"Convert this dataframe to an interactive table.\"\n",
              "              style=\"display:none;\">\n",
              "        \n",
              "  <svg xmlns=\"http://www.w3.org/2000/svg\" height=\"24px\"viewBox=\"0 0 24 24\"\n",
              "       width=\"24px\">\n",
              "    <path d=\"M0 0h24v24H0V0z\" fill=\"none\"/>\n",
              "    <path d=\"M18.56 5.44l.94 2.06.94-2.06 2.06-.94-2.06-.94-.94-2.06-.94 2.06-2.06.94zm-11 1L8.5 8.5l.94-2.06 2.06-.94-2.06-.94L8.5 2.5l-.94 2.06-2.06.94zm10 10l.94 2.06.94-2.06 2.06-.94-2.06-.94-.94-2.06-.94 2.06-2.06.94z\"/><path d=\"M17.41 7.96l-1.37-1.37c-.4-.4-.92-.59-1.43-.59-.52 0-1.04.2-1.43.59L10.3 9.45l-7.72 7.72c-.78.78-.78 2.05 0 2.83L4 21.41c.39.39.9.59 1.41.59.51 0 1.02-.2 1.41-.59l7.78-7.78 2.81-2.81c.8-.78.8-2.07 0-2.86zM5.41 20L4 18.59l7.72-7.72 1.47 1.35L5.41 20z\"/>\n",
              "  </svg>\n",
              "      </button>\n",
              "      \n",
              "  <style>\n",
              "    .colab-df-container {\n",
              "      display:flex;\n",
              "      flex-wrap:wrap;\n",
              "      gap: 12px;\n",
              "    }\n",
              "\n",
              "    .colab-df-convert {\n",
              "      background-color: #E8F0FE;\n",
              "      border: none;\n",
              "      border-radius: 50%;\n",
              "      cursor: pointer;\n",
              "      display: none;\n",
              "      fill: #1967D2;\n",
              "      height: 32px;\n",
              "      padding: 0 0 0 0;\n",
              "      width: 32px;\n",
              "    }\n",
              "\n",
              "    .colab-df-convert:hover {\n",
              "      background-color: #E2EBFA;\n",
              "      box-shadow: 0px 1px 2px rgba(60, 64, 67, 0.3), 0px 1px 3px 1px rgba(60, 64, 67, 0.15);\n",
              "      fill: #174EA6;\n",
              "    }\n",
              "\n",
              "    [theme=dark] .colab-df-convert {\n",
              "      background-color: #3B4455;\n",
              "      fill: #D2E3FC;\n",
              "    }\n",
              "\n",
              "    [theme=dark] .colab-df-convert:hover {\n",
              "      background-color: #434B5C;\n",
              "      box-shadow: 0px 1px 3px 1px rgba(0, 0, 0, 0.15);\n",
              "      filter: drop-shadow(0px 1px 2px rgba(0, 0, 0, 0.3));\n",
              "      fill: #FFFFFF;\n",
              "    }\n",
              "  </style>\n",
              "\n",
              "      <script>\n",
              "        const buttonEl =\n",
              "          document.querySelector('#df-ae0f990c-d6bf-467a-8b49-dbcc011378dc button.colab-df-convert');\n",
              "        buttonEl.style.display =\n",
              "          google.colab.kernel.accessAllowed ? 'block' : 'none';\n",
              "\n",
              "        async function convertToInteractive(key) {\n",
              "          const element = document.querySelector('#df-ae0f990c-d6bf-467a-8b49-dbcc011378dc');\n",
              "          const dataTable =\n",
              "            await google.colab.kernel.invokeFunction('convertToInteractive',\n",
              "                                                     [key], {});\n",
              "          if (!dataTable) return;\n",
              "\n",
              "          const docLinkHtml = 'Like what you see? Visit the ' +\n",
              "            '<a target=\"_blank\" href=https://colab.research.google.com/notebooks/data_table.ipynb>data table notebook</a>'\n",
              "            + ' to learn more about interactive tables.';\n",
              "          element.innerHTML = '';\n",
              "          dataTable['output_type'] = 'display_data';\n",
              "          await google.colab.output.renderOutput(dataTable, element);\n",
              "          const docLink = document.createElement('div');\n",
              "          docLink.innerHTML = docLinkHtml;\n",
              "          element.appendChild(docLink);\n",
              "        }\n",
              "      </script>\n",
              "    </div>\n",
              "  </div>\n",
              "  "
            ]
          },
          "metadata": {},
          "execution_count": 40
        }
      ]
    },
    {
      "cell_type": "code",
      "source": [
        "data = data[pd.notnull(data['LongDescription'])]"
      ],
      "metadata": {
        "id": "cWgxXq4jmxQ5"
      },
      "execution_count": 41,
      "outputs": []
    },
    {
      "cell_type": "code",
      "source": [
        "data.shape"
      ],
      "metadata": {
        "colab": {
          "base_uri": "https://localhost:8080/"
        },
        "id": "WnAb28eXm0bH",
        "outputId": "4664e50c-e198-43d7-dcb7-0ac3462541e5"
      },
      "execution_count": 43,
      "outputs": [
        {
          "output_type": "execute_result",
          "data": {
            "text/plain": [
              "(66568, 4)"
            ]
          },
          "metadata": {},
          "execution_count": 43
        }
      ]
    },
    {
      "cell_type": "code",
      "source": [
        "# data = data2[data2['LongDescription'].str.len() > 25].reset_index(drop=True).copy()"
      ],
      "metadata": {
        "id": "53mXXsiWxszU"
      },
      "execution_count": null,
      "outputs": []
    },
    {
      "cell_type": "code",
      "source": [
        "data['len'] = data['LongDescription'].apply(lambda s : len(s))"
      ],
      "metadata": {
        "id": "w0WstVxVxs-d",
        "colab": {
          "base_uri": "https://localhost:8080/"
        },
        "outputId": "4ec322f3-97f9-4a4b-8a9a-1f4686b34807"
      },
      "execution_count": 44,
      "outputs": [
        {
          "output_type": "stream",
          "name": "stderr",
          "text": [
            "/usr/local/lib/python3.7/dist-packages/ipykernel_launcher.py:1: SettingWithCopyWarning: \n",
            "A value is trying to be set on a copy of a slice from a DataFrame.\n",
            "Try using .loc[row_indexer,col_indexer] = value instead\n",
            "\n",
            "See the caveats in the documentation: https://pandas.pydata.org/pandas-docs/stable/user_guide/indexing.html#returning-a-view-versus-a-copy\n",
            "  \"\"\"Entry point for launching an IPython kernel.\n"
          ]
        }
      ]
    },
    {
      "cell_type": "code",
      "source": [
        "data"
      ],
      "metadata": {
        "id": "tHMCsqejRoC4"
      },
      "execution_count": null,
      "outputs": []
    },
    {
      "cell_type": "code",
      "source": [
        "embed_size = 300 # how big is each word vector\n",
        "max_features = 120000 # how many unique words to use (i.e num rows in embedding vector)\n",
        "maxlen = 750 # max number of words in a question to use\n",
        "batch_size = 512 # how many samples to process at once\n",
        "n_epochs = 5 # how many times to iterate over all samples\n",
        "n_splits = 5 # Number of K-fold Splits\n",
        "SEED = 10\n",
        "debug = 0"
      ],
      "metadata": {
        "id": "WjkBxOpixs76"
      },
      "execution_count": 46,
      "outputs": []
    },
    {
      "cell_type": "markdown",
      "source": [
        "### Load Global Vectors for Word Representation (GloVe)"
      ],
      "metadata": {
        "id": "-FbyJuR5yhrJ"
      }
    },
    {
      "cell_type": "code",
      "source": [
        "def load_glove(word_index):\n",
        "    EMBEDDING_FILE = 'drive/MyDrive/crs/glove.840B.300d.txt'\n",
        "    def get_coefs(word,*arr): return word, np.asarray(arr, dtype='float32')[:300]\n",
        "    embeddings_index = dict(get_coefs(*o.split(\" \")) for o in open(EMBEDDING_FILE))\n",
        "    \n",
        "    all_embs = np.stack(embeddings_index.values())\n",
        "    emb_mean,emb_std = -0.005838499,0.48782197\n",
        "    embed_size = all_embs.shape[1]\n",
        "\n",
        "    nb_words = min(max_features, len(word_index)+1)\n",
        "    embedding_matrix = np.random.normal(emb_mean, emb_std, (nb_words, embed_size))\n",
        "    for word, i in word_index.items():\n",
        "        if i >= max_features: continue\n",
        "        embedding_vector = embeddings_index.get(word)\n",
        "        if embedding_vector is not None: \n",
        "            embedding_matrix[i] = embedding_vector\n",
        "        else:\n",
        "            embedding_vector = embeddings_index.get(word.capitalize())\n",
        "            if embedding_vector is not None: \n",
        "                embedding_matrix[i] = embedding_vector\n",
        "    return embedding_matrix "
      ],
      "metadata": {
        "id": "_pSuy8gRygii"
      },
      "execution_count": 64,
      "outputs": []
    },
    {
      "cell_type": "code",
      "source": [
        "if debug:\n",
        "    embedding_matrix = np.random.randn(120000,300)\n",
        "else:\n",
        "    embedding_matrix = load_glove(tokenizer.word_index)"
      ],
      "metadata": {
        "colab": {
          "base_uri": "https://localhost:8080/"
        },
        "id": "6omN3dmayr3f",
        "outputId": "3cbebed7-6e5b-445c-d8d1-bf8e0fa34065"
      },
      "execution_count": 65,
      "outputs": [
        {
          "output_type": "stream",
          "name": "stderr",
          "text": [
            "/usr/local/lib/python3.7/dist-packages/IPython/core/interactiveshell.py:2882: FutureWarning: arrays to stack must be passed as a \"sequence\" type such as list or tuple. Support for non-sequence iterables such as generators is deprecated as of NumPy 1.16 and will raise an error in the future.\n",
            "  exec(code_obj, self.user_global_ns, self.user_ns)\n"
          ]
        }
      ]
    },
    {
      "cell_type": "code",
      "source": [
        "np.shape(embedding_matrix)"
      ],
      "metadata": {
        "colab": {
          "base_uri": "https://localhost:8080/"
        },
        "id": "cJXMZsNpyuic",
        "outputId": "436d201f-9344-4437-b424-06e59f7c93e5"
      },
      "execution_count": 66,
      "outputs": [
        {
          "output_type": "execute_result",
          "data": {
            "text/plain": [
              "(11447, 300)"
            ]
          },
          "metadata": {},
          "execution_count": 66
        }
      ]
    },
    {
      "cell_type": "markdown",
      "source": [
        "## Define CNN model"
      ],
      "metadata": {
        "id": "-Vp-Zj8CHseK"
      }
    },
    {
      "cell_type": "markdown",
      "source": [
        ""
      ],
      "metadata": {
        "id": "CQar92KYq3pO"
      }
    },
    {
      "cell_type": "code",
      "source": [
        "class CNN_Text(nn.Module):\n",
        "    \n",
        "    def __init__(self):\n",
        "        super(CNN_Text, self).__init__()\n",
        "        filter_sizes = [1,2,3,5]\n",
        "        num_filters = 36\n",
        "        n_classes = len(le.classes_)\n",
        "        self.embedding = nn.Embedding(max_features, embed_size)\n",
        "        self.embedding.weight = nn.Parameter(torch.tensor(embedding_matrix, dtype=torch.float32))\n",
        "        self.embedding.weight.requires_grad = False\n",
        "        self.convs1 = nn.ModuleList([nn.Conv2d(1, num_filters, (K, embed_size)) for K in filter_sizes])\n",
        "        self.dropout = nn.Dropout(0.1)\n",
        "        self.fc1 = nn.Linear(len(filter_sizes)*num_filters, n_classes)\n",
        "\n",
        "\n",
        "    def forward(self, x):\n",
        "        x = self.embedding(x)  \n",
        "        x = x.unsqueeze(1)  \n",
        "        x = [F.relu(conv(x)).squeeze(3) for conv in self.convs1] \n",
        "        x = [F.max_pool1d(i, i.size(2)).squeeze(2) for i in x]  \n",
        "        x = torch.cat(x, 1)\n",
        "        x = self.dropout(x)  \n",
        "        logit = self.fc1(x) \n",
        "        return logit"
      ],
      "metadata": {
        "id": "elOVYlkryx7q"
      },
      "execution_count": 67,
      "outputs": []
    },
    {
      "cell_type": "markdown",
      "source": [
        "## Define BiLSTM"
      ],
      "metadata": {
        "id": "vXuY-dU-rG-e"
      }
    },
    {
      "cell_type": "code",
      "source": [
        "class BiLSTM(nn.Module):\n",
        "    \n",
        "    def __init__(self):\n",
        "        super(BiLSTM, self).__init__()\n",
        "        self.hidden_size = 64\n",
        "        drp = 0.1\n",
        "        n_classes = len(le.classes_)\n",
        "        self.embedding = nn.Embedding(max_features, embed_size)\n",
        "        self.embedding.weight = nn.Parameter(torch.tensor(embedding_matrix, dtype=torch.float32))\n",
        "        self.embedding.weight.requires_grad = False\n",
        "        self.lstm = nn.LSTM(embed_size, self.hidden_size, bidirectional=True, batch_first=True)\n",
        "        self.linear = nn.Linear(self.hidden_size*4 , 64)\n",
        "        self.relu = nn.ReLU()\n",
        "        self.dropout = nn.Dropout(drp)\n",
        "        self.out = nn.Linear(64, n_classes)\n",
        "\n",
        "\n",
        "    def forward(self, x):\n",
        "        #rint(x.size())\n",
        "        h_embedding = self.embedding(x)\n",
        "        #_embedding = torch.squeeze(torch.unsqueeze(h_embedding, 0))\n",
        "        h_lstm, _ = self.lstm(h_embedding)\n",
        "        avg_pool = torch.mean(h_lstm, 1)\n",
        "        max_pool, _ = torch.max(h_lstm, 1)\n",
        "        conc = torch.cat(( avg_pool, max_pool), 1)\n",
        "        conc = self.relu(self.linear(conc))\n",
        "        conc = self.dropout(conc)\n",
        "        out = self.out(conc)\n",
        "        return out"
      ],
      "metadata": {
        "id": "R92XmxQyy5uc"
      },
      "execution_count": 72,
      "outputs": []
    },
    {
      "cell_type": "markdown",
      "source": [
        "## With minimum requirement\n",
        "- Over 100 classification"
      ],
      "metadata": {
        "id": "EBc4BUYEqJpn"
      }
    },
    {
      "cell_type": "code",
      "source": [
        "count_df = data[['PurposeCode','LongDescription']].groupby('PurposeCode').aggregate({'LongDescription':'count'}).reset_index().sort_values('LongDescription',ascending=False)\n",
        "count_df.head()"
      ],
      "metadata": {
        "colab": {
          "base_uri": "https://localhost:8080/",
          "height": 206
        },
        "id": "4CurKnL_x2RC",
        "outputId": "ed88ef65-976e-4c94-9638-48a2b987db83"
      },
      "execution_count": 47,
      "outputs": [
        {
          "output_type": "execute_result",
          "data": {
            "text/plain": [
              "     PurposeCode  LongDescription\n",
              "101      22040.0             4807\n",
              "62       15110.0             4793\n",
              "29       11420.0             4754\n",
              "20       11220.0             3505\n",
              "21       11230.0             2966"
            ],
            "text/html": [
              "\n",
              "  <div id=\"df-c4c0fc88-3604-4618-9c09-8da6b7c58d5f\">\n",
              "    <div class=\"colab-df-container\">\n",
              "      <div>\n",
              "<style scoped>\n",
              "    .dataframe tbody tr th:only-of-type {\n",
              "        vertical-align: middle;\n",
              "    }\n",
              "\n",
              "    .dataframe tbody tr th {\n",
              "        vertical-align: top;\n",
              "    }\n",
              "\n",
              "    .dataframe thead th {\n",
              "        text-align: right;\n",
              "    }\n",
              "</style>\n",
              "<table border=\"1\" class=\"dataframe\">\n",
              "  <thead>\n",
              "    <tr style=\"text-align: right;\">\n",
              "      <th></th>\n",
              "      <th>PurposeCode</th>\n",
              "      <th>LongDescription</th>\n",
              "    </tr>\n",
              "  </thead>\n",
              "  <tbody>\n",
              "    <tr>\n",
              "      <th>101</th>\n",
              "      <td>22040.0</td>\n",
              "      <td>4807</td>\n",
              "    </tr>\n",
              "    <tr>\n",
              "      <th>62</th>\n",
              "      <td>15110.0</td>\n",
              "      <td>4793</td>\n",
              "    </tr>\n",
              "    <tr>\n",
              "      <th>29</th>\n",
              "      <td>11420.0</td>\n",
              "      <td>4754</td>\n",
              "    </tr>\n",
              "    <tr>\n",
              "      <th>20</th>\n",
              "      <td>11220.0</td>\n",
              "      <td>3505</td>\n",
              "    </tr>\n",
              "    <tr>\n",
              "      <th>21</th>\n",
              "      <td>11230.0</td>\n",
              "      <td>2966</td>\n",
              "    </tr>\n",
              "  </tbody>\n",
              "</table>\n",
              "</div>\n",
              "      <button class=\"colab-df-convert\" onclick=\"convertToInteractive('df-c4c0fc88-3604-4618-9c09-8da6b7c58d5f')\"\n",
              "              title=\"Convert this dataframe to an interactive table.\"\n",
              "              style=\"display:none;\">\n",
              "        \n",
              "  <svg xmlns=\"http://www.w3.org/2000/svg\" height=\"24px\"viewBox=\"0 0 24 24\"\n",
              "       width=\"24px\">\n",
              "    <path d=\"M0 0h24v24H0V0z\" fill=\"none\"/>\n",
              "    <path d=\"M18.56 5.44l.94 2.06.94-2.06 2.06-.94-2.06-.94-.94-2.06-.94 2.06-2.06.94zm-11 1L8.5 8.5l.94-2.06 2.06-.94-2.06-.94L8.5 2.5l-.94 2.06-2.06.94zm10 10l.94 2.06.94-2.06 2.06-.94-2.06-.94-.94-2.06-.94 2.06-2.06.94z\"/><path d=\"M17.41 7.96l-1.37-1.37c-.4-.4-.92-.59-1.43-.59-.52 0-1.04.2-1.43.59L10.3 9.45l-7.72 7.72c-.78.78-.78 2.05 0 2.83L4 21.41c.39.39.9.59 1.41.59.51 0 1.02-.2 1.41-.59l7.78-7.78 2.81-2.81c.8-.78.8-2.07 0-2.86zM5.41 20L4 18.59l7.72-7.72 1.47 1.35L5.41 20z\"/>\n",
              "  </svg>\n",
              "      </button>\n",
              "      \n",
              "  <style>\n",
              "    .colab-df-container {\n",
              "      display:flex;\n",
              "      flex-wrap:wrap;\n",
              "      gap: 12px;\n",
              "    }\n",
              "\n",
              "    .colab-df-convert {\n",
              "      background-color: #E8F0FE;\n",
              "      border: none;\n",
              "      border-radius: 50%;\n",
              "      cursor: pointer;\n",
              "      display: none;\n",
              "      fill: #1967D2;\n",
              "      height: 32px;\n",
              "      padding: 0 0 0 0;\n",
              "      width: 32px;\n",
              "    }\n",
              "\n",
              "    .colab-df-convert:hover {\n",
              "      background-color: #E2EBFA;\n",
              "      box-shadow: 0px 1px 2px rgba(60, 64, 67, 0.3), 0px 1px 3px 1px rgba(60, 64, 67, 0.15);\n",
              "      fill: #174EA6;\n",
              "    }\n",
              "\n",
              "    [theme=dark] .colab-df-convert {\n",
              "      background-color: #3B4455;\n",
              "      fill: #D2E3FC;\n",
              "    }\n",
              "\n",
              "    [theme=dark] .colab-df-convert:hover {\n",
              "      background-color: #434B5C;\n",
              "      box-shadow: 0px 1px 3px 1px rgba(0, 0, 0, 0.15);\n",
              "      filter: drop-shadow(0px 1px 2px rgba(0, 0, 0, 0.3));\n",
              "      fill: #FFFFFF;\n",
              "    }\n",
              "  </style>\n",
              "\n",
              "      <script>\n",
              "        const buttonEl =\n",
              "          document.querySelector('#df-c4c0fc88-3604-4618-9c09-8da6b7c58d5f button.colab-df-convert');\n",
              "        buttonEl.style.display =\n",
              "          google.colab.kernel.accessAllowed ? 'block' : 'none';\n",
              "\n",
              "        async function convertToInteractive(key) {\n",
              "          const element = document.querySelector('#df-c4c0fc88-3604-4618-9c09-8da6b7c58d5f');\n",
              "          const dataTable =\n",
              "            await google.colab.kernel.invokeFunction('convertToInteractive',\n",
              "                                                     [key], {});\n",
              "          if (!dataTable) return;\n",
              "\n",
              "          const docLinkHtml = 'Like what you see? Visit the ' +\n",
              "            '<a target=\"_blank\" href=https://colab.research.google.com/notebooks/data_table.ipynb>data table notebook</a>'\n",
              "            + ' to learn more about interactive tables.';\n",
              "          element.innerHTML = '';\n",
              "          dataTable['output_type'] = 'display_data';\n",
              "          await google.colab.output.renderOutput(dataTable, element);\n",
              "          const docLink = document.createElement('div');\n",
              "          docLink.innerHTML = docLinkHtml;\n",
              "          element.appendChild(docLink);\n",
              "        }\n",
              "      </script>\n",
              "    </div>\n",
              "  </div>\n",
              "  "
            ]
          },
          "metadata": {},
          "execution_count": 47
        }
      ]
    },
    {
      "cell_type": "code",
      "source": [
        "target_code = count_df[count_df['LongDescription']>100]['PurposeCode'].values"
      ],
      "metadata": {
        "id": "Gf8eSKBWx1SD"
      },
      "execution_count": 48,
      "outputs": []
    },
    {
      "cell_type": "code",
      "source": [
        "count_df.shape"
      ],
      "metadata": {
        "colab": {
          "base_uri": "https://localhost:8080/"
        },
        "id": "LbnYseyZyBMc",
        "outputId": "7df67fe7-2299-47c6-a00b-4c54983106e6"
      },
      "execution_count": 49,
      "outputs": [
        {
          "output_type": "execute_result",
          "data": {
            "text/plain": [
              "(205, 2)"
            ]
          },
          "metadata": {},
          "execution_count": 49
        }
      ]
    },
    {
      "cell_type": "code",
      "source": [
        "count_df['PurposeCode'].unique()"
      ],
      "metadata": {
        "colab": {
          "base_uri": "https://localhost:8080/"
        },
        "id": "Q4lmL0tJyFwT",
        "outputId": "65a6e3c4-b003-414c-e036-4c26a2271d92"
      },
      "execution_count": 50,
      "outputs": [
        {
          "output_type": "execute_result",
          "data": {
            "text/plain": [
              "array([22040., 15110., 11420., 11220., 11230., 11110., 11120., 31120.,\n",
              "       43040., 11330., 16061., 12220., 12191., 11320., 16010., 31181.,\n",
              "       99810., 11240., 21020., 21050., 15130., 11430., 12110., 72010.,\n",
              "       22010., 43030., 11130., 43010., 32171., 41010., 12230., 15170.,\n",
              "       31110., 32310., 74020., 14010., 15111., 25010., 33120., 14020.,\n",
              "       31161., 32182., 33110., 21010., 14050., 12181., 31320., 23110.,\n",
              "       23630., 31163., 12264., 12261., 24010., 33181., 15112., 31166.,\n",
              "       15210., 32130., 32172., 13020., 21030., 41082., 33210., 43082.,\n",
              "       91010., 12250., 32161., 16020., 15113., 14030., 16062., 22020.,\n",
              "       41081., 12240., 16050., 31194., 31140., 23230., 32163., 15151.,\n",
              "       31310.,   321., 23210., 31381., 32110., 15114., 31210., 15160.,\n",
              "       72040., 31220., 22030., 31182., 43060., 21040., 23510., 31191.,\n",
              "       16030., 23183., 99820., 14015., 16063., 11182., 33140., 31281.,\n",
              "       15250., 11260., 12281., 32262., 31195., 73010., 12182., 31162.,\n",
              "       32220.,   210., 14031., 23181.,   220., 14021., 12263., 31192.,\n",
              "         322., 31150., 32120., 43081., 72050., 31391., 13040., 13081.,\n",
              "       41020., 32140., 32210., 23220., 31193., 23640., 24040., 15150.,\n",
              "       14022., 12262., 14040., 14081., 52010., 23182., 23320., 16040.,\n",
              "       41030., 11232., 15180., 32167., 15152., 24030., 53040., 24081.,\n",
              "       15153., 21081., 13030., 32168.,   998., 53030., 31130., 24020.,\n",
              "         231., 23270., 15220.,   323.,   233.,   311., 41040., 23310.,\n",
              "         313., 14032., 32268., 93010., 31282.,   236.,   122.,   160.,\n",
              "       13010., 23340., 32164., 15142., 25020., 15125., 15230., 23620.,\n",
              "       33130., 11250., 31382., 60040.,   121., 43073., 12382.,   312.,\n",
              "       12320., 23360., 23410., 15190., 16064., 11231.,   232., 33150.,\n",
              "       31165., 21061., 32162., 32261., 51010.])"
            ]
          },
          "metadata": {},
          "execution_count": 50
        }
      ]
    },
    {
      "cell_type": "code",
      "source": [
        "target_code"
      ],
      "metadata": {
        "colab": {
          "base_uri": "https://localhost:8080/"
        },
        "id": "lNX4nI2eyGsr",
        "outputId": "a2ae218e-2c39-42f7-d0dc-f950fc632927"
      },
      "execution_count": 51,
      "outputs": [
        {
          "output_type": "execute_result",
          "data": {
            "text/plain": [
              "array([22040., 15110., 11420., 11220., 11230., 11110., 11120., 31120.,\n",
              "       43040., 11330., 16061., 12220., 12191., 11320., 16010., 31181.,\n",
              "       99810., 11240., 21020., 21050., 15130., 11430., 12110., 72010.,\n",
              "       22010., 43030., 11130., 43010., 32171., 41010., 12230., 15170.,\n",
              "       31110., 32310., 74020., 14010., 15111., 25010., 33120., 14020.,\n",
              "       31161., 32182., 33110., 21010., 14050., 12181., 31320., 23110.,\n",
              "       23630., 31163., 12264., 12261., 24010., 33181., 15112., 31166.,\n",
              "       15210., 32130., 32172., 13020., 21030., 41082., 33210., 43082.,\n",
              "       91010., 12250., 32161., 16020., 15113., 14030., 16062., 22020.,\n",
              "       41081., 12240., 16050., 31194., 31140., 23230., 32163., 15151.,\n",
              "       31310.,   321., 23210., 31381., 32110., 15114., 31210., 15160.,\n",
              "       72040., 31220., 22030.])"
            ]
          },
          "metadata": {},
          "execution_count": 51
        }
      ]
    },
    {
      "cell_type": "code",
      "source": [
        "def condition_parser(x):\n",
        "    if x in target_code:\n",
        "        return x\n",
        "    else:\n",
        "        return \"OTHER\"\n",
        "    \n",
        "data['PurposeCode'] = data['PurposeCode'].apply(lambda x: condition_parser(x))  "
      ],
      "metadata": {
        "id": "c4JapKRryOHO",
        "colab": {
          "base_uri": "https://localhost:8080/"
        },
        "outputId": "8a213d23-dd75-4872-eb1d-af27e7563f17"
      },
      "execution_count": 52,
      "outputs": [
        {
          "output_type": "stream",
          "name": "stderr",
          "text": [
            "/usr/local/lib/python3.7/dist-packages/ipykernel_launcher.py:7: SettingWithCopyWarning: \n",
            "A value is trying to be set on a copy of a slice from a DataFrame.\n",
            "Try using .loc[row_indexer,col_indexer] = value instead\n",
            "\n",
            "See the caveats in the documentation: https://pandas.pydata.org/pandas-docs/stable/user_guide/indexing.html#returning-a-view-versus-a-copy\n",
            "  import sys\n"
          ]
        }
      ]
    },
    {
      "cell_type": "code",
      "source": [
        "data['PurposeCode'].unique()"
      ],
      "metadata": {
        "colab": {
          "base_uri": "https://localhost:8080/"
        },
        "id": "xe6N_8K1yRL5",
        "outputId": "0e757023-e100-4058-f0ef-8d1193f0e816"
      },
      "execution_count": 53,
      "outputs": [
        {
          "output_type": "execute_result",
          "data": {
            "text/plain": [
              "array([12230.0, 31120.0, 11420.0, 22010.0, 31161.0, 23630.0, 33110.0,\n",
              "       12240.0, 43040.0, 12264.0, 31163.0, 11110.0, 99810.0, 43030.0,\n",
              "       11320.0, 11120.0, 12220.0, 31320.0, 32182.0, 24010.0, 16061.0,\n",
              "       15170.0, 15110.0, 31181.0, 11430.0, 11330.0, 16010.0, 'OTHER',\n",
              "       11220.0, 41082.0, 72010.0, 15111.0, 15112.0, 21010.0, 32172.0,\n",
              "       12191.0, 12110.0, 12261.0, 11130.0, 16062.0, 32161.0, 25010.0,\n",
              "       72040.0, 23110.0, 74020.0, 22040.0, 32171.0, 12250.0, 15113.0,\n",
              "       43010.0, 41081.0, 16050.0, 23230.0, 23210.0, 15130.0, 21020.0,\n",
              "       33120.0, 33181.0, 41010.0, 13020.0, 14010.0, 31110.0, 15151.0,\n",
              "       11230.0, 21050.0, 31194.0, 14020.0, 33210.0, 15210.0, 32310.0,\n",
              "       21030.0, 14050.0, 31220.0, 12181.0, 91010.0, 32130.0, 11240.0,\n",
              "       32110.0, 31166.0, 14030.0, 32163.0, 22030.0, 31210.0, 31140.0,\n",
              "       22020.0, 15114.0, 43082.0, 31381.0, 15160.0, 31310.0, 16020.0,\n",
              "       321.0], dtype=object)"
            ]
          },
          "metadata": {},
          "execution_count": 53
        }
      ]
    },
    {
      "cell_type": "code",
      "source": [
        "data['PurposeCode'] = data['PurposeCode'].map(str)"
      ],
      "metadata": {
        "id": "2AQYXbypySMQ",
        "colab": {
          "base_uri": "https://localhost:8080/"
        },
        "outputId": "81d92b47-878e-4343-acd8-1f6fab282740"
      },
      "execution_count": 54,
      "outputs": [
        {
          "output_type": "stream",
          "name": "stderr",
          "text": [
            "/usr/local/lib/python3.7/dist-packages/ipykernel_launcher.py:1: SettingWithCopyWarning: \n",
            "A value is trying to be set on a copy of a slice from a DataFrame.\n",
            "Try using .loc[row_indexer,col_indexer] = value instead\n",
            "\n",
            "See the caveats in the documentation: https://pandas.pydata.org/pandas-docs/stable/user_guide/indexing.html#returning-a-view-versus-a-copy\n",
            "  \"\"\"Entry point for launching an IPython kernel.\n"
          ]
        }
      ]
    },
    {
      "cell_type": "markdown",
      "source": [
        "### Preprocessing"
      ],
      "metadata": {
        "id": "am7Gt0Ibqgok"
      }
    },
    {
      "cell_type": "code",
      "source": [
        "import re\n",
        "\n",
        "def clean_text(x):\n",
        "    pattern = r'[^a-zA-z0-9\\s]'\n",
        "    text = re.sub(pattern, '', x)\n",
        "    return x\n",
        "\n",
        "def clean_numbers(x):\n",
        "    if bool(re.search(r'\\d', x)):\n",
        "        x = re.sub('[0-9]{5,}', '#####', x)\n",
        "        x = re.sub('[0-9]{4}', '####', x)\n",
        "        x = re.sub('[0-9]{3}', '###', x)\n",
        "        x = re.sub('[0-9]{2}', '##', x)\n",
        "    return x"
      ],
      "metadata": {
        "id": "ePtwk59CyUH7"
      },
      "execution_count": 55,
      "outputs": []
    },
    {
      "cell_type": "code",
      "source": [
        "contraction_dict = {\"ain't\": \"is not\", \"aren't\": \"are not\",\"can't\": \"cannot\", \"'cause\": \"because\", \"could've\": \"could have\", \"couldn't\": \"could not\", \"didn't\": \"did not\",  \"doesn't\": \"does not\", \"don't\": \"do not\", \"hadn't\": \"had not\", \"hasn't\": \"has not\", \"haven't\": \"have not\", \"he'd\": \"he would\",\"he'll\": \"he will\", \"he's\": \"he is\", \"how'd\": \"how did\", \"how'd'y\": \"how do you\", \"how'll\": \"how will\", \"how's\": \"how is\",  \"I'd\": \"I would\", \"I'd've\": \"I would have\", \"I'll\": \"I will\", \"I'll've\": \"I will have\",\"I'm\": \"I am\", \"I've\": \"I have\", \"i'd\": \"i would\", \"i'd've\": \"i would have\", \"i'll\": \"i will\",  \"i'll've\": \"i will have\",\"i'm\": \"i am\", \"i've\": \"i have\", \"isn't\": \"is not\", \"it'd\": \"it would\", \"it'd've\": \"it would have\", \"it'll\": \"it will\", \"it'll've\": \"it will have\",\"it's\": \"it is\", \"let's\": \"let us\", \"ma'am\": \"madam\", \"mayn't\": \"may not\", \"might've\": \"might have\",\"mightn't\": \"might not\",\"mightn't've\": \"might not have\", \"must've\": \"must have\", \"mustn't\": \"must not\", \"mustn't've\": \"must not have\", \"needn't\": \"need not\", \"needn't've\": \"need not have\",\"o'clock\": \"of the clock\", \"oughtn't\": \"ought not\", \"oughtn't've\": \"ought not have\", \"shan't\": \"shall not\", \"sha'n't\": \"shall not\", \"shan't've\": \"shall not have\", \"she'd\": \"she would\", \"she'd've\": \"she would have\", \"she'll\": \"she will\", \"she'll've\": \"she will have\", \"she's\": \"she is\", \"should've\": \"should have\", \"shouldn't\": \"should not\", \"shouldn't've\": \"should not have\", \"so've\": \"so have\",\"so's\": \"so as\", \"this's\": \"this is\",\"that'd\": \"that would\", \"that'd've\": \"that would have\", \"that's\": \"that is\", \"there'd\": \"there would\", \"there'd've\": \"there would have\", \"there's\": \"there is\", \"here's\": \"here is\",\"they'd\": \"they would\", \"they'd've\": \"they would have\", \"they'll\": \"they will\", \"they'll've\": \"they will have\", \"they're\": \"they are\", \"they've\": \"they have\", \"to've\": \"to have\", \"wasn't\": \"was not\", \"we'd\": \"we would\", \"we'd've\": \"we would have\", \"we'll\": \"we will\", \"we'll've\": \"we will have\", \"we're\": \"we are\", \"we've\": \"we have\", \"weren't\": \"were not\", \"what'll\": \"what will\", \"what'll've\": \"what will have\", \"what're\": \"what are\",  \"what's\": \"what is\", \"what've\": \"what have\", \"when's\": \"when is\", \"when've\": \"when have\", \"where'd\": \"where did\", \"where's\": \"where is\", \"where've\": \"where have\", \"who'll\": \"who will\", \"who'll've\": \"who will have\", \"who's\": \"who is\", \"who've\": \"who have\", \"why's\": \"why is\", \"why've\": \"why have\", \"will've\": \"will have\", \"won't\": \"will not\", \"won't've\": \"will not have\", \"would've\": \"would have\", \"wouldn't\": \"would not\", \"wouldn't've\": \"would not have\", \"y'all\": \"you all\", \"y'all'd\": \"you all would\",\"y'all'd've\": \"you all would have\",\"y'all're\": \"you all are\",\"y'all've\": \"you all have\",\"you'd\": \"you would\", \"you'd've\": \"you would have\", \"you'll\": \"you will\", \"you'll've\": \"you will have\", \"you're\": \"you are\", \"you've\": \"you have\"}"
      ],
      "metadata": {
        "id": "KLDRTbEFVJhw"
      },
      "execution_count": 56,
      "outputs": []
    },
    {
      "cell_type": "code",
      "source": [
        "def _get_contractions(contraction_dict):\n",
        "    contraction_re = re.compile('(%s)' % '|'.join(contraction_dict.keys()))\n",
        "    return contraction_dict, contraction_re\n",
        "contractions, contractions_re = _get_contractions(contraction_dict)\n",
        "def replace_contractions(text):\n",
        "    def replace(match):\n",
        "        return contractions[match.group(0)]\n",
        "    return contractions_re.sub(replace, text)\n",
        "# Usage\n",
        "replace_contractions(\"this's a text with contraction\")"
      ],
      "metadata": {
        "colab": {
          "base_uri": "https://localhost:8080/",
          "height": 36
        },
        "id": "RNc1QpBqyVPX",
        "outputId": "0efcc614-0a86-46fe-9855-1f2834755dcf"
      },
      "execution_count": 57,
      "outputs": [
        {
          "output_type": "execute_result",
          "data": {
            "text/plain": [
              "'this is a text with contraction'"
            ],
            "application/vnd.google.colaboratory.intrinsic+json": {
              "type": "string"
            }
          },
          "metadata": {},
          "execution_count": 57
        }
      ]
    },
    {
      "cell_type": "code",
      "source": [
        "# lower the text\n",
        "data[\"LongDescription\"] = data[\"LongDescription\"].apply(lambda x: x.lower())\n",
        "\n",
        "# Clean the text\n",
        "data[\"LongDescription\"] = data[\"LongDescription\"].apply(lambda x: clean_text(x))\n",
        "\n",
        "# Clean numbers\n",
        "data[\"LongDescription\"] = data[\"LongDescription\"].apply(lambda x: clean_numbers(x))\n",
        "\n",
        "# Clean Contractions\n",
        "data[\"LongDescription\"] = data[\"LongDescription\"].apply(lambda x: replace_contractions(x))"
      ],
      "metadata": {
        "id": "hjiDuTY5yWU5",
        "colab": {
          "base_uri": "https://localhost:8080/"
        },
        "outputId": "7e679f65-d2db-4285-e5dd-0d3b9d1bbfe7"
      },
      "execution_count": 58,
      "outputs": [
        {
          "output_type": "stream",
          "name": "stderr",
          "text": [
            "/usr/local/lib/python3.7/dist-packages/ipykernel_launcher.py:2: SettingWithCopyWarning: \n",
            "A value is trying to be set on a copy of a slice from a DataFrame.\n",
            "Try using .loc[row_indexer,col_indexer] = value instead\n",
            "\n",
            "See the caveats in the documentation: https://pandas.pydata.org/pandas-docs/stable/user_guide/indexing.html#returning-a-view-versus-a-copy\n",
            "  \n",
            "/usr/local/lib/python3.7/dist-packages/ipykernel_launcher.py:5: SettingWithCopyWarning: \n",
            "A value is trying to be set on a copy of a slice from a DataFrame.\n",
            "Try using .loc[row_indexer,col_indexer] = value instead\n",
            "\n",
            "See the caveats in the documentation: https://pandas.pydata.org/pandas-docs/stable/user_guide/indexing.html#returning-a-view-versus-a-copy\n",
            "  \"\"\"\n",
            "/usr/local/lib/python3.7/dist-packages/ipykernel_launcher.py:8: SettingWithCopyWarning: \n",
            "A value is trying to be set on a copy of a slice from a DataFrame.\n",
            "Try using .loc[row_indexer,col_indexer] = value instead\n",
            "\n",
            "See the caveats in the documentation: https://pandas.pydata.org/pandas-docs/stable/user_guide/indexing.html#returning-a-view-versus-a-copy\n",
            "  \n",
            "/usr/local/lib/python3.7/dist-packages/ipykernel_launcher.py:11: SettingWithCopyWarning: \n",
            "A value is trying to be set on a copy of a slice from a DataFrame.\n",
            "Try using .loc[row_indexer,col_indexer] = value instead\n",
            "\n",
            "See the caveats in the documentation: https://pandas.pydata.org/pandas-docs/stable/user_guide/indexing.html#returning-a-view-versus-a-copy\n",
            "  # This is added back by InteractiveShellApp.init_path()\n"
          ]
        }
      ]
    },
    {
      "cell_type": "code",
      "source": [
        "from sklearn.model_selection import train_test_split\n",
        "train_X, test_X, train_y, test_y = train_test_split(data['LongDescription'], data['PurposeCode'],\n",
        "                                                    stratify=data['PurposeCode'], \n",
        "                                                    test_size=0.25)"
      ],
      "metadata": {
        "id": "hLVxvObQyYnZ"
      },
      "execution_count": 59,
      "outputs": []
    },
    {
      "cell_type": "code",
      "source": [
        "print(\"Train shape : \",train_X.shape)\n",
        "print(\"Test shape : \",test_X.shape)"
      ],
      "metadata": {
        "colab": {
          "base_uri": "https://localhost:8080/"
        },
        "id": "XtHoeHHvycTa",
        "outputId": "7e39e1e9-8645-4a45-f7f8-a4d7d7dc108f"
      },
      "execution_count": 60,
      "outputs": [
        {
          "output_type": "stream",
          "name": "stdout",
          "text": [
            "Train shape :  (49926,)\n",
            "Test shape :  (16642,)\n"
          ]
        }
      ]
    },
    {
      "cell_type": "code",
      "source": [
        "## Tokenize the sentences\n",
        "tokenizer = Tokenizer(num_words=max_features)\n",
        "tokenizer.fit_on_texts(list(train_X))\n",
        "train_X = tokenizer.texts_to_sequences(train_X)\n",
        "test_X = tokenizer.texts_to_sequences(test_X)\n",
        "\n",
        "## Pad the sentences \n",
        "train_X = pad_sequences(train_X, maxlen=maxlen)\n",
        "test_X = pad_sequences(test_X, maxlen=maxlen)"
      ],
      "metadata": {
        "id": "riBPxYWOydOS"
      },
      "execution_count": 61,
      "outputs": []
    },
    {
      "cell_type": "code",
      "source": [
        "from sklearn.preprocessing import LabelEncoder\n",
        "le = LabelEncoder()\n",
        "train_y = le.fit_transform(train_y.values)\n",
        "test_y = le.transform(test_y.values)"
      ],
      "metadata": {
        "id": "OFMcnv4DyeRX"
      },
      "execution_count": 62,
      "outputs": []
    },
    {
      "cell_type": "code",
      "source": [
        "le.classes_\n"
      ],
      "metadata": {
        "colab": {
          "base_uri": "https://localhost:8080/"
        },
        "id": "qnc0uHReyflm",
        "outputId": "43e605be-26f2-4e59-8c92-631c463eff58"
      },
      "execution_count": 63,
      "outputs": [
        {
          "output_type": "execute_result",
          "data": {
            "text/plain": [
              "array(['11110.0', '11120.0', '11130.0', '11220.0', '11230.0', '11240.0',\n",
              "       '11320.0', '11330.0', '11420.0', '11430.0', '12110.0', '12181.0',\n",
              "       '12191.0', '12220.0', '12230.0', '12240.0', '12250.0', '12261.0',\n",
              "       '12264.0', '13020.0', '14010.0', '14020.0', '14030.0', '14050.0',\n",
              "       '15110.0', '15111.0', '15112.0', '15113.0', '15114.0', '15130.0',\n",
              "       '15151.0', '15160.0', '15170.0', '15210.0', '16010.0', '16020.0',\n",
              "       '16050.0', '16061.0', '16062.0', '21010.0', '21020.0', '21030.0',\n",
              "       '21050.0', '22010.0', '22020.0', '22030.0', '22040.0', '23110.0',\n",
              "       '23210.0', '23230.0', '23630.0', '24010.0', '25010.0', '31110.0',\n",
              "       '31120.0', '31140.0', '31161.0', '31163.0', '31166.0', '31181.0',\n",
              "       '31194.0', '31210.0', '31220.0', '31310.0', '31320.0', '31381.0',\n",
              "       '321.0', '32110.0', '32130.0', '32161.0', '32163.0', '32171.0',\n",
              "       '32172.0', '32182.0', '32310.0', '33110.0', '33120.0', '33181.0',\n",
              "       '33210.0', '41010.0', '41081.0', '41082.0', '43010.0', '43030.0',\n",
              "       '43040.0', '43082.0', '72010.0', '72040.0', '74020.0', '91010.0',\n",
              "       '99810.0', 'OTHER'], dtype=object)"
            ]
          },
          "metadata": {},
          "execution_count": 63
        }
      ]
    },
    {
      "cell_type": "markdown",
      "source": [
        "### Run CNN"
      ],
      "metadata": {
        "id": "JONtJSlqrPx5"
      }
    },
    {
      "cell_type": "code",
      "source": [
        "n_epochs = 7\n",
        "model = CNN_Text()\n",
        "loss_fn = nn.CrossEntropyLoss(reduction='sum')\n",
        "optimizer = torch.optim.Adam(filter(lambda p: p.requires_grad, model.parameters()), lr=0.001)\n",
        "model.cuda()\n",
        "\n",
        "# Load train and test in CUDA Memory\n",
        "x_train = torch.tensor(train_X, dtype=torch.long).cuda()\n",
        "y_train = torch.tensor(train_y, dtype=torch.long).cuda()\n",
        "x_cv = torch.tensor(test_X, dtype=torch.long).cuda()\n",
        "y_cv = torch.tensor(test_y, dtype=torch.long).cuda()\n",
        "\n",
        "# Create Torch datasets\n",
        "train = torch.utils.data.TensorDataset(x_train, y_train)\n",
        "valid = torch.utils.data.TensorDataset(x_cv, y_cv)\n",
        "\n",
        "# Create Data Loaders\n",
        "train_loader = torch.utils.data.DataLoader(train, batch_size=batch_size, shuffle=True)\n",
        "valid_loader = torch.utils.data.DataLoader(valid, batch_size=batch_size, shuffle=False)\n",
        "\n",
        "train_loss = []\n",
        "valid_loss = []\n",
        "\n",
        "for epoch in range(n_epochs):\n",
        "    start_time = time.time()\n",
        "    # Set model to train configuration\n",
        "    model.train()\n",
        "    avg_loss = 0.  \n",
        "    for i, (x_batch, y_batch) in enumerate(train_loader):\n",
        "        # Predict/Forward Pass\n",
        "        y_pred = model(x_batch)\n",
        "        # Compute loss\n",
        "        loss = loss_fn(y_pred, y_batch)\n",
        "        optimizer.zero_grad()\n",
        "        loss.backward()\n",
        "        optimizer.step()\n",
        "        avg_loss += loss.item() / len(train_loader)\n",
        "    \n",
        "    # Set model to validation configuration -Doesn't get trained here\n",
        "    model.eval()        \n",
        "    avg_val_loss = 0.\n",
        "    val_preds = np.zeros((len(x_cv),len(le.classes_)))\n",
        "    \n",
        "    for i, (x_batch, y_batch) in enumerate(valid_loader):\n",
        "        y_pred = model(x_batch).detach()\n",
        "        avg_val_loss += loss_fn(y_pred, y_batch).item() / len(valid_loader)\n",
        "        # keep/store predictions\n",
        "        val_preds[i * batch_size:(i+1) * batch_size] =F.softmax(y_pred).cpu().numpy()\n",
        "    \n",
        "    # Check Accuracy\n",
        "    val_accuracy = sum(val_preds.argmax(axis=1)==test_y)/len(test_y)\n",
        "    train_loss.append(avg_loss)\n",
        "    valid_loss.append(avg_val_loss)\n",
        "    elapsed_time = time.time() - start_time \n",
        "    print('Epoch {}/{} \\t loss={:.4f} \\t val_loss={:.4f}  \\t val_acc={:.4f}  \\t time={:.2f}s'.format(\n",
        "                epoch + 1, n_epochs, avg_loss, avg_val_loss, val_accuracy, elapsed_time))"
      ],
      "metadata": {
        "colab": {
          "base_uri": "https://localhost:8080/"
        },
        "id": "GtA3JrZnyzdU",
        "outputId": "5969bdac-efcf-4ec0-904c-b3bec7782c88"
      },
      "execution_count": 68,
      "outputs": [
        {
          "output_type": "stream",
          "name": "stderr",
          "text": [
            "/usr/local/lib/python3.7/dist-packages/ipykernel_launcher.py:48: UserWarning: Implicit dimension choice for softmax has been deprecated. Change the call to include dim=X as an argument.\n"
          ]
        },
        {
          "output_type": "stream",
          "name": "stdout",
          "text": [
            "Epoch 1/7 \t loss=1439.2642 \t val_loss=937.1258  \t val_acc=0.5617  \t time=50.55s\n",
            "Epoch 2/7 \t loss=777.4039 \t val_loss=599.6275  \t val_acc=0.7031  \t time=53.28s\n",
            "Epoch 3/7 \t loss=561.5922 \t val_loss=469.5297  \t val_acc=0.7615  \t time=53.59s\n",
            "Epoch 4/7 \t loss=459.2978 \t val_loss=401.4328  \t val_acc=0.7942  \t time=53.56s\n",
            "Epoch 5/7 \t loss=396.6050 \t val_loss=357.3759  \t val_acc=0.8212  \t time=53.54s\n",
            "Epoch 6/7 \t loss=352.2767 \t val_loss=327.6342  \t val_acc=0.8301  \t time=53.48s\n",
            "Epoch 7/7 \t loss=319.7661 \t val_loss=308.0821  \t val_acc=0.8404  \t time=53.73s\n"
          ]
        }
      ]
    },
    {
      "cell_type": "code",
      "source": [
        "torch.save(model,'textcnn_model')"
      ],
      "metadata": {
        "id": "GW1mMESby1UY"
      },
      "execution_count": 69,
      "outputs": []
    },
    {
      "cell_type": "code",
      "source": [
        "def plot_graph(epochs):\n",
        "    fig = plt.figure(figsize=(12,12))\n",
        "    plt.title(\"Train/Validation Loss\")\n",
        "    plt.plot(list(np.arange(epochs) + 1) , train_loss, label='train')\n",
        "    plt.plot(list(np.arange(epochs) + 1), valid_loss, label='validation')\n",
        "    plt.xlabel('num_epochs', fontsize=12)\n",
        "    plt.ylabel('loss', fontsize=12)\n",
        "    plt.legend(loc='best')"
      ],
      "metadata": {
        "id": "1PFE9vOVy2nf"
      },
      "execution_count": 70,
      "outputs": []
    },
    {
      "cell_type": "code",
      "source": [
        "plot_graph(n_epochs)"
      ],
      "metadata": {
        "id": "_lBBDkN-y4y1",
        "colab": {
          "base_uri": "https://localhost:8080/",
          "height": 733
        },
        "outputId": "b18a1f08-b835-4c72-e71c-eae4aa83e90b"
      },
      "execution_count": 71,
      "outputs": [
        {
          "output_type": "display_data",
          "data": {
            "text/plain": [
              "<Figure size 864x864 with 1 Axes>"
            ],
            "image/png": "[encoded data removed]"
          },
          "metadata": {
            "needs_background": "light"
          }
        }
      ]
    },
    {
      "cell_type": "markdown",
      "source": [
        "### Run biLSTM "
      ],
      "metadata": {
        "id": "5Deb2jkXHvgG"
      }
    },
    {
      "cell_type": "code",
      "source": [
        "n_epochs = 7\n",
        "model = BiLSTM()\n",
        "loss_fn = nn.CrossEntropyLoss(reduction='sum')\n",
        "optimizer = torch.optim.Adam(filter(lambda p: p.requires_grad, model.parameters()), lr=0.001)\n",
        "model.cuda()\n",
        "\n",
        "# Load train and test in CUDA Memory\n",
        "x_train = torch.tensor(train_X, dtype=torch.long).cuda()\n",
        "y_train = torch.tensor(train_y, dtype=torch.long).cuda()\n",
        "x_cv = torch.tensor(test_X, dtype=torch.long).cuda()\n",
        "y_cv = torch.tensor(test_y, dtype=torch.long).cuda()\n",
        "\n",
        "# Create Torch datasets\n",
        "train = torch.utils.data.TensorDataset(x_train, y_train)\n",
        "valid = torch.utils.data.TensorDataset(x_cv, y_cv)\n",
        "\n",
        "# Create Data Loaders\n",
        "train_loader = torch.utils.data.DataLoader(train, batch_size=batch_size, shuffle=True)\n",
        "valid_loader = torch.utils.data.DataLoader(valid, batch_size=batch_size, shuffle=False)\n",
        "\n",
        "train_loss = []\n",
        "valid_loss = []\n",
        "\n",
        "for epoch in range(n_epochs):\n",
        "    start_time = time.time()\n",
        "    # Set model to train configuration\n",
        "    model.train()\n",
        "    avg_loss = 0.  \n",
        "    for i, (x_batch, y_batch) in enumerate(train_loader):\n",
        "        # Predict/Forward Pass\n",
        "        y_pred = model(x_batch)\n",
        "        # Compute loss\n",
        "        loss = loss_fn(y_pred, y_batch)\n",
        "        optimizer.zero_grad()\n",
        "        loss.backward()\n",
        "        optimizer.step()\n",
        "        avg_loss += loss.item() / len(train_loader)\n",
        "    \n",
        "    # Set model to validation configuration -Doesn't get trained here\n",
        "    model.eval()        \n",
        "    avg_val_loss = 0.\n",
        "    val_preds = np.zeros((len(x_cv),len(le.classes_)))\n",
        "\n",
        "    for i, (x_batch, y_batch) in enumerate(valid_loader):\n",
        "        y_pred = model(x_batch).detach()\n",
        "        avg_val_loss += loss_fn(y_pred, y_batch).item() / len(valid_loader)\n",
        "        # keep/store predictions\n",
        "        val_preds[i * batch_size:(i+1) * batch_size] =F.softmax(y_pred).cpu().numpy()\n",
        "\n",
        "    # Check Accuracy\n",
        "    val_accuracy = sum(val_preds.argmax(axis=1)==test_y)/len(test_y)\n",
        "    train_loss.append(avg_loss)\n",
        "    valid_loss.append(avg_val_loss)\n",
        "    elapsed_time = time.time() - start_time \n",
        "    print('Epoch {}/{} \\t loss={:.4f} \\t val_loss={:.4f}  \\t val_acc={:.4f}  \\t time={:.2f}s'.format(\n",
        "        epoch + 1, n_epochs, avg_loss, avg_val_loss, val_accuracy, elapsed_time))"
      ],
      "metadata": {
        "colab": {
          "base_uri": "https://localhost:8080/"
        },
        "id": "BYoN3y-jIA3o",
        "outputId": "0cfcf0e6-5c4c-4e7f-d151-d08b4578dded"
      },
      "execution_count": 73,
      "outputs": [
        {
          "output_type": "stream",
          "name": "stderr",
          "text": [
            "/usr/local/lib/python3.7/dist-packages/ipykernel_launcher.py:48: UserWarning: Implicit dimension choice for softmax has been deprecated. Change the call to include dim=X as an argument.\n"
          ]
        },
        {
          "output_type": "stream",
          "name": "stdout",
          "text": [
            "Epoch 1/7 \t loss=1880.0242 \t val_loss=1542.3686  \t val_acc=0.3251  \t time=25.22s\n",
            "Epoch 2/7 \t loss=1342.7809 \t val_loss=1102.1393  \t val_acc=0.4715  \t time=25.16s\n",
            "Epoch 3/7 \t loss=1008.0538 \t val_loss=842.3774  \t val_acc=0.5788  \t time=24.88s\n",
            "Epoch 4/7 \t loss=833.7923 \t val_loss=706.2633  \t val_acc=0.6505  \t time=25.05s\n",
            "Epoch 5/7 \t loss=698.4590 \t val_loss=607.2085  \t val_acc=0.6997  \t time=25.01s\n",
            "Epoch 6/7 \t loss=610.1279 \t val_loss=535.9569  \t val_acc=0.7326  \t time=25.03s\n",
            "Epoch 7/7 \t loss=546.4748 \t val_loss=489.5166  \t val_acc=0.7509  \t time=25.34s\n"
          ]
        }
      ]
    },
    {
      "cell_type": "code",
      "source": [
        "torch.save(model,'bilstm_model')"
      ],
      "metadata": {
        "id": "QaPqOEz6ID-j"
      },
      "execution_count": 74,
      "outputs": []
    },
    {
      "cell_type": "code",
      "source": [
        "plot_graph(n_epochs)"
      ],
      "metadata": {
        "colab": {
          "base_uri": "https://localhost:8080/",
          "height": 733
        },
        "id": "8dchAGK5IHBb",
        "outputId": "0eaa4787-2796-4926-8450-df5041133bb9"
      },
      "execution_count": 75,
      "outputs": [
        {
          "output_type": "display_data",
          "data": {
            "text/plain": [
              "<Figure size 864x864 with 1 Axes>"
            ],
            "image/png": "[encoded data removed]"
          },
          "metadata": {
            "needs_background": "light"
          }
        }
      ]
    },
    {
      "cell_type": "code",
      "source": [
        ""
      ],
      "metadata": {
        "id": "rRWGPnSDtRRg"
      },
      "execution_count": null,
      "outputs": []
    }
  ]
}